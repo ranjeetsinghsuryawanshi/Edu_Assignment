{
 "cells": [
  {
   "cell_type": "code",
   "execution_count": 1,
   "metadata": {},
   "outputs": [],
   "source": [
    "import pandas as pd \n",
    "import numpy as np\n",
    "import matplotlib.pyplot as plt\n",
    "import seaborn as sns\n",
    "%matplotlib inline"
   ]
  },
  {
   "cell_type": "markdown",
   "metadata": {},
   "source": [
    "# 1.Load the kinematics dataset as measured on mobile sensors from the file “run_or_walk.csv”. List out the columns in the dataset."
   ]
  },
  {
   "cell_type": "code",
   "execution_count": 9,
   "metadata": {},
   "outputs": [
    {
     "data": {
      "text/html": [
       "<div>\n",
       "<style scoped>\n",
       "    .dataframe tbody tr th:only-of-type {\n",
       "        vertical-align: middle;\n",
       "    }\n",
       "\n",
       "    .dataframe tbody tr th {\n",
       "        vertical-align: top;\n",
       "    }\n",
       "\n",
       "    .dataframe thead th {\n",
       "        text-align: right;\n",
       "    }\n",
       "</style>\n",
       "<table border=\"1\" class=\"dataframe\">\n",
       "  <thead>\n",
       "    <tr style=\"text-align: right;\">\n",
       "      <th></th>\n",
       "      <th>date</th>\n",
       "      <th>time</th>\n",
       "      <th>username</th>\n",
       "      <th>wrist</th>\n",
       "      <th>activity</th>\n",
       "      <th>acceleration_x</th>\n",
       "      <th>acceleration_y</th>\n",
       "      <th>acceleration_z</th>\n",
       "      <th>gyro_x</th>\n",
       "      <th>gyro_y</th>\n",
       "      <th>gyro_z</th>\n",
       "    </tr>\n",
       "  </thead>\n",
       "  <tbody>\n",
       "    <tr>\n",
       "      <th>0</th>\n",
       "      <td>2017-6-30</td>\n",
       "      <td>13:51:15:847724020</td>\n",
       "      <td>viktor</td>\n",
       "      <td>0</td>\n",
       "      <td>0</td>\n",
       "      <td>0.2650</td>\n",
       "      <td>-0.7814</td>\n",
       "      <td>-0.0076</td>\n",
       "      <td>-0.0590</td>\n",
       "      <td>0.0325</td>\n",
       "      <td>-2.9296</td>\n",
       "    </tr>\n",
       "    <tr>\n",
       "      <th>1</th>\n",
       "      <td>2017-6-30</td>\n",
       "      <td>13:51:16:246945023</td>\n",
       "      <td>viktor</td>\n",
       "      <td>0</td>\n",
       "      <td>0</td>\n",
       "      <td>0.6722</td>\n",
       "      <td>-1.1233</td>\n",
       "      <td>-0.2344</td>\n",
       "      <td>-0.1757</td>\n",
       "      <td>0.0208</td>\n",
       "      <td>0.1269</td>\n",
       "    </tr>\n",
       "    <tr>\n",
       "      <th>2</th>\n",
       "      <td>2017-6-30</td>\n",
       "      <td>13:51:16:446233987</td>\n",
       "      <td>viktor</td>\n",
       "      <td>0</td>\n",
       "      <td>0</td>\n",
       "      <td>0.4399</td>\n",
       "      <td>-1.4817</td>\n",
       "      <td>0.0722</td>\n",
       "      <td>-0.9105</td>\n",
       "      <td>0.1063</td>\n",
       "      <td>-2.4367</td>\n",
       "    </tr>\n",
       "    <tr>\n",
       "      <th>3</th>\n",
       "      <td>2017-6-30</td>\n",
       "      <td>13:51:16:646117985</td>\n",
       "      <td>viktor</td>\n",
       "      <td>0</td>\n",
       "      <td>0</td>\n",
       "      <td>0.3031</td>\n",
       "      <td>-0.8125</td>\n",
       "      <td>0.0888</td>\n",
       "      <td>0.1199</td>\n",
       "      <td>-0.4099</td>\n",
       "      <td>-2.9336</td>\n",
       "    </tr>\n",
       "    <tr>\n",
       "      <th>4</th>\n",
       "      <td>2017-6-30</td>\n",
       "      <td>13:51:16:846738994</td>\n",
       "      <td>viktor</td>\n",
       "      <td>0</td>\n",
       "      <td>0</td>\n",
       "      <td>0.4814</td>\n",
       "      <td>-0.9312</td>\n",
       "      <td>0.0359</td>\n",
       "      <td>0.0527</td>\n",
       "      <td>0.4379</td>\n",
       "      <td>2.4922</td>\n",
       "    </tr>\n",
       "  </tbody>\n",
       "</table>\n",
       "</div>"
      ],
      "text/plain": [
       "        date                time username  wrist  activity  acceleration_x  \\\n",
       "0  2017-6-30  13:51:15:847724020   viktor      0         0          0.2650   \n",
       "1  2017-6-30  13:51:16:246945023   viktor      0         0          0.6722   \n",
       "2  2017-6-30  13:51:16:446233987   viktor      0         0          0.4399   \n",
       "3  2017-6-30  13:51:16:646117985   viktor      0         0          0.3031   \n",
       "4  2017-6-30  13:51:16:846738994   viktor      0         0          0.4814   \n",
       "\n",
       "   acceleration_y  acceleration_z  gyro_x  gyro_y  gyro_z  \n",
       "0         -0.7814         -0.0076 -0.0590  0.0325 -2.9296  \n",
       "1         -1.1233         -0.2344 -0.1757  0.0208  0.1269  \n",
       "2         -1.4817          0.0722 -0.9105  0.1063 -2.4367  \n",
       "3         -0.8125          0.0888  0.1199 -0.4099 -2.9336  \n",
       "4         -0.9312          0.0359  0.0527  0.4379  2.4922  "
      ]
     },
     "execution_count": 9,
     "metadata": {},
     "output_type": "execute_result"
    }
   ],
   "source": [
    "df=pd.read_csv('c:/edureka/run_or_walk.csv')\n",
    "df.head()"
   ]
  },
  {
   "cell_type": "code",
   "execution_count": 10,
   "metadata": {},
   "outputs": [
    {
     "name": "stdout",
     "output_type": "stream",
     "text": [
      "<class 'pandas.core.frame.DataFrame'>\n",
      "RangeIndex: 88588 entries, 0 to 88587\n",
      "Data columns (total 11 columns):\n",
      "date              88588 non-null object\n",
      "time              88588 non-null object\n",
      "username          88588 non-null object\n",
      "wrist             88588 non-null int64\n",
      "activity          88588 non-null int64\n",
      "acceleration_x    88588 non-null float64\n",
      "acceleration_y    88588 non-null float64\n",
      "acceleration_z    88588 non-null float64\n",
      "gyro_x            88588 non-null float64\n",
      "gyro_y            88588 non-null float64\n",
      "gyro_z            88588 non-null float64\n",
      "dtypes: float64(6), int64(2), object(3)\n",
      "memory usage: 7.4+ MB\n"
     ]
    }
   ],
   "source": [
    "df.info()"
   ]
  },
  {
   "cell_type": "code",
   "execution_count": 11,
   "metadata": {},
   "outputs": [
    {
     "data": {
      "text/plain": [
       "Index(['date', 'time', 'username', 'wrist', 'activity', 'acceleration_x',\n",
       "       'acceleration_y', 'acceleration_z', 'gyro_x', 'gyro_y', 'gyro_z'],\n",
       "      dtype='object')"
      ]
     },
     "execution_count": 11,
     "metadata": {},
     "output_type": "execute_result"
    }
   ],
   "source": [
    "df.columns"
   ]
  },
  {
   "cell_type": "code",
   "execution_count": 12,
   "metadata": {},
   "outputs": [
    {
     "data": {
      "text/plain": [
       "date              0\n",
       "time              0\n",
       "username          0\n",
       "wrist             0\n",
       "activity          0\n",
       "acceleration_x    0\n",
       "acceleration_y    0\n",
       "acceleration_z    0\n",
       "gyro_x            0\n",
       "gyro_y            0\n",
       "gyro_z            0\n",
       "dtype: int64"
      ]
     },
     "execution_count": 12,
     "metadata": {},
     "output_type": "execute_result"
    }
   ],
   "source": [
    "df.isnull().sum()"
   ]
  },
  {
   "cell_type": "code",
   "execution_count": 6,
   "metadata": {},
   "outputs": [
    {
     "data": {
      "text/plain": [
       "(88588, 11)"
      ]
     },
     "execution_count": 6,
     "metadata": {},
     "output_type": "execute_result"
    }
   ],
   "source": [
    "df.shape"
   ]
  },
  {
   "cell_type": "markdown",
   "metadata": {},
   "source": [
    "# Convert Date and Time Column to datetime and merge it "
   ]
  },
  {
   "cell_type": "code",
   "execution_count": 13,
   "metadata": {},
   "outputs": [],
   "source": [
    "df.date = pd.to_datetime(df.date)\n",
    "df.time = np.array([a[::-1].replace(\":\",\".\",1)[::-1] for a in df.time.values], dtype=object)\n",
    "df.time = pd.to_timedelta(df.time)\n",
    "df.date += df.time\n",
    "df = df.drop(\"time\", axis=1)"
   ]
  },
  {
   "cell_type": "markdown",
   "metadata": {},
   "source": [
    "# Drop username which doesn't have any significance while prediction"
   ]
  },
  {
   "cell_type": "code",
   "execution_count": 14,
   "metadata": {},
   "outputs": [],
   "source": [
    "df.drop(['username'],axis=1,inplace=True)\n"
   ]
  },
  {
   "cell_type": "code",
   "execution_count": 17,
   "metadata": {},
   "outputs": [
    {
     "name": "stdout",
     "output_type": "stream",
     "text": [
      "<class 'pandas.core.frame.DataFrame'>\n",
      "RangeIndex: 88588 entries, 0 to 88587\n",
      "Data columns (total 9 columns):\n",
      "date              88588 non-null datetime64[ns]\n",
      "wrist             88588 non-null int64\n",
      "activity          88588 non-null int64\n",
      "acceleration_x    88588 non-null float64\n",
      "acceleration_y    88588 non-null float64\n",
      "acceleration_z    88588 non-null float64\n",
      "gyro_x            88588 non-null float64\n",
      "gyro_y            88588 non-null float64\n",
      "gyro_z            88588 non-null float64\n",
      "dtypes: datetime64[ns](1), float64(6), int64(2)\n",
      "memory usage: 6.1 MB\n"
     ]
    }
   ],
   "source": [
    "df.info()"
   ]
  },
  {
   "cell_type": "markdown",
   "metadata": {},
   "source": [
    "# Set Date as index"
   ]
  },
  {
   "cell_type": "code",
   "execution_count": 18,
   "metadata": {},
   "outputs": [],
   "source": [
    "df.set_index(\"date\", inplace=True)"
   ]
  },
  {
   "cell_type": "code",
   "execution_count": 19,
   "metadata": {},
   "outputs": [
    {
     "name": "stdout",
     "output_type": "stream",
     "text": [
      "<class 'pandas.core.frame.DataFrame'>\n",
      "DatetimeIndex: 88588 entries, 2017-06-30 13:51:15.847724020 to 2017-07-09 20:09:16.117410004\n",
      "Data columns (total 8 columns):\n",
      "wrist             88588 non-null int64\n",
      "activity          88588 non-null int64\n",
      "acceleration_x    88588 non-null float64\n",
      "acceleration_y    88588 non-null float64\n",
      "acceleration_z    88588 non-null float64\n",
      "gyro_x            88588 non-null float64\n",
      "gyro_y            88588 non-null float64\n",
      "gyro_z            88588 non-null float64\n",
      "dtypes: float64(6), int64(2)\n",
      "memory usage: 6.1 MB\n"
     ]
    }
   ],
   "source": [
    "df.info()"
   ]
  },
  {
   "cell_type": "markdown",
   "metadata": {},
   "source": [
    "# 2. Let the target variable ‘y’ be the activity and assign all the columns after it to ‘x’."
   ]
  },
  {
   "cell_type": "markdown",
   "metadata": {},
   "source": [
    "# Prepare Data"
   ]
  },
  {
   "cell_type": "code",
   "execution_count": 20,
   "metadata": {},
   "outputs": [],
   "source": [
    "X=df.drop(['activity'],axis=1)\n",
    "y=df['activity']"
   ]
  },
  {
   "cell_type": "markdown",
   "metadata": {},
   "source": [
    "# Split train and test data"
   ]
  },
  {
   "cell_type": "code",
   "execution_count": 13,
   "metadata": {},
   "outputs": [],
   "source": [
    "from sklearn.model_selection import train_test_split\n",
    "X_train,X_test,y_train,y_test=train_test_split(X,y,test_size=0.4,random_state=1)"
   ]
  },
  {
   "cell_type": "markdown",
   "metadata": {},
   "source": [
    "# 3.Using Scikit-learn fit a Gaussian Naive Bayes model and observe the accuracy. Generate a classification report using scikit learn."
   ]
  },
  {
   "cell_type": "code",
   "execution_count": 16,
   "metadata": {},
   "outputs": [
    {
     "data": {
      "text/plain": [
       "GaussianNB(priors=None, var_smoothing=1e-09)"
      ]
     },
     "execution_count": 16,
     "metadata": {},
     "output_type": "execute_result"
    }
   ],
   "source": [
    "from sklearn.naive_bayes import GaussianNB\n",
    "gausmodel=GaussianNB()\n",
    "gausmodel.fit(X_train,y_train)"
   ]
  },
  {
   "cell_type": "code",
   "execution_count": 17,
   "metadata": {},
   "outputs": [],
   "source": [
    "y_pred=gausmodel.predict(X_test)"
   ]
  },
  {
   "cell_type": "code",
   "execution_count": 18,
   "metadata": {},
   "outputs": [
    {
     "name": "stdout",
     "output_type": "stream",
     "text": [
      "95.60616322384016\n",
      "[[17355   195]\n",
      " [ 1362 16524]]\n",
      "              precision    recall  f1-score   support\n",
      "\n",
      "           0       0.93      0.99      0.96     17550\n",
      "           1       0.99      0.92      0.96     17886\n",
      "\n",
      "   micro avg       0.96      0.96      0.96     35436\n",
      "   macro avg       0.96      0.96      0.96     35436\n",
      "weighted avg       0.96      0.96      0.96     35436\n",
      "\n"
     ]
    }
   ],
   "source": [
    "from sklearn.metrics import classification_report,confusion_matrix,accuracy_score\n",
    "print(accuracy_score(y_test,y_pred)*100)\n",
    "print(confusion_matrix(y_test,y_pred))\n",
    "print(classification_report(y_test,y_pred))"
   ]
  },
  {
   "cell_type": "code",
   "execution_count": 21,
   "metadata": {},
   "outputs": [
    {
     "name": "stdout",
     "output_type": "stream",
     "text": [
      "<class 'pandas.core.frame.DataFrame'>\n",
      "DatetimeIndex: 88588 entries, 2017-06-30 13:51:15.847724020 to 2017-07-09 20:09:16.117410004\n",
      "Data columns (total 8 columns):\n",
      "wrist             88588 non-null int64\n",
      "activity          88588 non-null int64\n",
      "acceleration_x    88588 non-null float64\n",
      "acceleration_y    88588 non-null float64\n",
      "acceleration_z    88588 non-null float64\n",
      "gyro_x            88588 non-null float64\n",
      "gyro_y            88588 non-null float64\n",
      "gyro_z            88588 non-null float64\n",
      "dtypes: float64(6), int64(2)\n",
      "memory usage: 6.1 MB\n"
     ]
    }
   ],
   "source": [
    "df.info()"
   ]
  },
  {
   "cell_type": "code",
   "execution_count": 22,
   "metadata": {},
   "outputs": [
    {
     "data": {
      "text/plain": [
       "Index(['wrist', 'activity', 'acceleration_x', 'acceleration_y',\n",
       "       'acceleration_z', 'gyro_x', 'gyro_y', 'gyro_z'],\n",
       "      dtype='object')"
      ]
     },
     "execution_count": 22,
     "metadata": {},
     "output_type": "execute_result"
    }
   ],
   "source": [
    "df.columns"
   ]
  },
  {
   "cell_type": "markdown",
   "metadata": {},
   "source": [
    "# 4.Repeat the model once using only the acceleration values as predictors and then using only the gyro values as predictors. Comment on the difference in accuracy between both the models."
   ]
  },
  {
   "cell_type": "code",
   "execution_count": 23,
   "metadata": {},
   "outputs": [],
   "source": [
    "X=df[['acceleration_x','acceleration_y','acceleration_z']]\n",
    "y=df['activity']"
   ]
  },
  {
   "cell_type": "code",
   "execution_count": 25,
   "metadata": {},
   "outputs": [],
   "source": [
    "from sklearn.model_selection import train_test_split\n",
    "X_train,X_test,y_train,y_test=train_test_split(X,y,test_size=0.2,random_state=1)"
   ]
  },
  {
   "cell_type": "code",
   "execution_count": 26,
   "metadata": {},
   "outputs": [
    {
     "data": {
      "text/plain": [
       "GaussianNB(priors=None, var_smoothing=1e-09)"
      ]
     },
     "execution_count": 26,
     "metadata": {},
     "output_type": "execute_result"
    }
   ],
   "source": [
    "from sklearn.naive_bayes import GaussianNB\n",
    "gausmodel=GaussianNB()\n",
    "gausmodel.fit(X_train,y_train)"
   ]
  },
  {
   "cell_type": "code",
   "execution_count": 27,
   "metadata": {},
   "outputs": [],
   "source": [
    "y_pred=gausmodel.predict(X_test)"
   ]
  },
  {
   "cell_type": "code",
   "execution_count": 28,
   "metadata": {},
   "outputs": [
    {
     "name": "stdout",
     "output_type": "stream",
     "text": [
      "95.65978101365843\n",
      "[[8610   63]\n",
      " [ 706 8339]]\n",
      "              precision    recall  f1-score   support\n",
      "\n",
      "           0       0.92      0.99      0.96      8673\n",
      "           1       0.99      0.92      0.96      9045\n",
      "\n",
      "   micro avg       0.96      0.96      0.96     17718\n",
      "   macro avg       0.96      0.96      0.96     17718\n",
      "weighted avg       0.96      0.96      0.96     17718\n",
      "\n"
     ]
    }
   ],
   "source": [
    "from sklearn.metrics import classification_report,confusion_matrix,accuracy_score\n",
    "print(accuracy_score(y_test,y_pred)*100)\n",
    "print(confusion_matrix(y_test,y_pred))\n",
    "print(classification_report(y_test,y_pred))"
   ]
  },
  {
   "cell_type": "code",
   "execution_count": 29,
   "metadata": {},
   "outputs": [],
   "source": [
    "X=df[['gyro_x', 'gyro_y', 'gyro_z']]\n",
    "y=df['activity']"
   ]
  },
  {
   "cell_type": "code",
   "execution_count": 30,
   "metadata": {},
   "outputs": [],
   "source": [
    "from sklearn.model_selection import train_test_split\n",
    "X_train,X_test,y_train,y_test=train_test_split(X,y,test_size=0.2,random_state=1)"
   ]
  },
  {
   "cell_type": "code",
   "execution_count": 31,
   "metadata": {},
   "outputs": [
    {
     "data": {
      "text/plain": [
       "GaussianNB(priors=None, var_smoothing=1e-09)"
      ]
     },
     "execution_count": 31,
     "metadata": {},
     "output_type": "execute_result"
    }
   ],
   "source": [
    "from sklearn.naive_bayes import GaussianNB\n",
    "gausmodel=GaussianNB()\n",
    "gausmodel.fit(X_train,y_train)"
   ]
  },
  {
   "cell_type": "code",
   "execution_count": 32,
   "metadata": {},
   "outputs": [
    {
     "name": "stdout",
     "output_type": "stream",
     "text": [
      "95.65978101365843\n",
      "[[8610   63]\n",
      " [ 706 8339]]\n",
      "              precision    recall  f1-score   support\n",
      "\n",
      "           0       0.92      0.99      0.96      8673\n",
      "           1       0.99      0.92      0.96      9045\n",
      "\n",
      "   micro avg       0.96      0.96      0.96     17718\n",
      "   macro avg       0.96      0.96      0.96     17718\n",
      "weighted avg       0.96      0.96      0.96     17718\n",
      "\n"
     ]
    }
   ],
   "source": [
    "from sklearn.metrics import classification_report,confusion_matrix,accuracy_score\n",
    "print(accuracy_score(y_test,y_pred)*100)\n",
    "print(confusion_matrix(y_test,y_pred))\n",
    "print(classification_report(y_test,y_pred))"
   ]
  },
  {
   "cell_type": "markdown",
   "metadata": {},
   "source": [
    "Accuracy is same when predicting with either acceleration values as predictors or gyro values as predictors."
   ]
  }
 ],
 "metadata": {
  "kernelspec": {
   "display_name": "Python 3",
   "language": "python",
   "name": "python3"
  },
  "language_info": {
   "codemirror_mode": {
    "name": "ipython",
    "version": 3
   },
   "file_extension": ".py",
   "mimetype": "text/x-python",
   "name": "python",
   "nbconvert_exporter": "python",
   "pygments_lexer": "ipython3",
   "version": "3.7.1"
  }
 },
 "nbformat": 4,
 "nbformat_minor": 2
}
